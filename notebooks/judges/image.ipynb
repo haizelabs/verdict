{
 "cells": [
  {
   "cell_type": "code",
   "execution_count": null,
   "metadata": {},
   "outputs": [],
   "source": [
    "from verdict import Image, Pipeline\n",
    "from verdict.schema import Schema\n",
    "from verdict.common.judge import PairwiseJudgeUnit\n",
    "\n",
    "pipeline = Pipeline() >> PairwiseJudgeUnit(explanation=True).prompt(\"\"\"\n",
    "    @system\n",
    "    You are an art critic with exceptional taste in the matters of animated art. You are given two images and you need to judge which one is better.\n",
    "\n",
    "    @user\n",
    "    Given the following two images, decide which one is more aesthetically pleasing.\n",
    "\n",
    "    {source.image_a}\n",
    "    {source.image_b}\n",
    "\n",
    "    Your response should be a single letter, either \"A\" for the first image or \"B\" for the second image, indicating your choice.\n",
    "    Please provide a rationale for your choice.\n",
    "\"\"\").via(\"gpt-4.1-mini\")\n",
    "\n",
    "results, _ = pipeline.run(Schema.of(\n",
    "    image_a=Image(\"images/nyc-bird.jpeg\"),\n",
    "    image_b=Image(\"images/sf-bird.jpeg\"),\n",
    "))\n",
    "\n",
    "print(results)"
   ]
  }
 ],
 "metadata": {
  "kernelspec": {
   "display_name": "verdict",
   "language": "python",
   "name": "python3"
  },
  "language_info": {
   "codemirror_mode": {
    "name": "ipython",
    "version": 3
   },
   "file_extension": ".py",
   "mimetype": "text/x-python",
   "name": "python",
   "nbconvert_exporter": "python",
   "pygments_lexer": "ipython3",
   "version": "3.9.21"
  }
 },
 "nbformat": 4,
 "nbformat_minor": 2
}
