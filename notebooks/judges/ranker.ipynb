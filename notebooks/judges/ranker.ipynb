{
 "cells": [
  {
   "cell_type": "code",
   "execution_count": null,
   "id": "e502b9af",
   "metadata": {},
   "outputs": [],
   "source": [
    "# install verdict\n",
    "!uv pip install verdict --system\n",
    "\n",
    "# This notebook has been run ahead of time, so you can inspect outputs without making\n",
    "# any API calls. You can set your API key if you want to run the examples yourself.\n",
    "# %env OPENAI_API_KEY=*************************"
   ]
  },
  {
   "cell_type": "markdown",
   "id": "575fd7f4-9e47-4bba-acd6-7435fab7f561",
   "metadata": {},
   "source": [
    "## `RankerUnit` Usage\n",
    "\n",
    "The `RankerUnit` has similar design to the `BestOfKJudgeUnit`. Refer to the [Judge notebook](./judge.ipynb) for more context."
   ]
  },
  {
   "cell_type": "code",
   "execution_count": 3,
   "id": "0cfbee3e-e5f1-47f0-ad4b-0263010e5419",
   "metadata": {},
   "outputs": [
    {
     "data": {
      "text/plain": [
       "{'Pipeline_root.block.unit[Ranker]_explanation': 'The jokes are ranked based on their originality and humor. A is the classic joke that is well-known but not very funny. C adds a twist by suggesting to ask the chicken, making it slightly more humorous. B is the funniest as it incorporates a clever play on words related to documentation, which adds a layer of wit.',\n",
       " 'Pipeline_root.block.unit[Ranker]_ranked_options': ['Why did the chicken cross the road? To get to the other side.',\n",
       "  \"Why did the chicken cross the road? I don't know, ask the chicken.\",\n",
       "  'Why did the chicken cross the road? Because the other side had better documentation.']}"
      ]
     },
     "execution_count": 3,
     "metadata": {},
     "output_type": "execute_result"
    }
   ],
   "source": [
    "from verdict import Pipeline\n",
    "from verdict.common.ranker import RankerUnit\n",
    "from verdict.schema import Schema\n",
    "\n",
    "response, _ = (\n",
    "    Pipeline() \\\n",
    "    # default scale is [A, ..., kth letter]\n",
    "    >> RankerUnit(k=3, explanation=True, original=True).prompt(\"\"\"\n",
    "        Rank the joke from least funny to most funny. Respond with a list of the letter indices below in the ranked order.\n",
    "\n",
    "        A: {input.options[0]}\n",
    "        B: {input.options[1]}\n",
    "        C: {input.options[2]}\n",
    "    \"\"\")\n",
    ").run(Schema.of(\n",
    "    options=[\n",
    "        \"Why did the chicken cross the road? To get to the other side.\",\n",
    "        \"Why did the chicken cross the road? Because the other side had better documentation.\",\n",
    "        \"Why did the chicken cross the road? I don't know, ask the chicken.\"\n",
    "    ]\n",
    "))\n",
    "\n",
    "response"
   ]
  }
 ],
 "metadata": {
  "kernelspec": {
   "display_name": "Python 3 (ipykernel)",
   "language": "python",
   "name": "python3"
  },
  "language_info": {
   "codemirror_mode": {
    "name": "ipython",
    "version": 3
   },
   "file_extension": ".py",
   "mimetype": "text/x-python",
   "name": "python",
   "nbconvert_exporter": "python",
   "pygments_lexer": "ipython3",
   "version": "3.9.21"
  }
 },
 "nbformat": 4,
 "nbformat_minor": 5
}
